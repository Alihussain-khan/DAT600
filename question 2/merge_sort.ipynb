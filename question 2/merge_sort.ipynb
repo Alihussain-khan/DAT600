{
 "cells": [
  {
   "cell_type": "code",
   "execution_count": 1,
   "metadata": {},
   "outputs": [
    {
     "name": "stdout",
     "output_type": "stream",
     "text": [
      "Python - Input size: 1000, Execution time: 0.003809 seconds\n",
      "Python - Input size: 10000, Execution time: 0.052944 seconds\n",
      "Python - Input size: 100000, Execution time: 0.704977 seconds\n",
      "Python - Input size: 1000000, Execution time: 4.875885 seconds\n"
     ]
    }
   ],
   "source": [
    "import time\n",
    "\n",
    "def merge_sort(arr):\n",
    "    if len(arr) > 1:\n",
    "        mid = len(arr) // 2\n",
    "        left_half = arr[:mid]\n",
    "        right_half = arr[mid:]\n",
    "\n",
    "        merge_sort(left_half)\n",
    "        merge_sort(right_half)\n",
    "\n",
    "        i = j = k = 0\n",
    "\n",
    "        while i < len(left_half) and j < len(right_half):\n",
    "            if left_half[i] < right_half[j]:\n",
    "                arr[k] = left_half[i]\n",
    "                i += 1\n",
    "            else:\n",
    "                arr[k] = right_half[j]\n",
    "                j += 1\n",
    "            k += 1\n",
    "\n",
    "        while i < len(left_half):\n",
    "            arr[k] = left_half[i]\n",
    "            i += 1\n",
    "            k += 1\n",
    "\n",
    "        while j < len(right_half):\n",
    "            arr[k] = right_half[j]\n",
    "            j += 1\n",
    "            k += 1\n",
    "\n",
    "def test_merge_sort(input_size):\n",
    "    arr = list(range(input_size, 0, -1))  # Reverse sorted array\n",
    "    start_time = time.time()\n",
    "    merge_sort(arr)\n",
    "    end_time = time.time()\n",
    "    return end_time - start_time\n",
    "\n",
    "\n",
    "input_sizes = [1000, 10000, 100000, 1000000]\n",
    "for size in input_sizes:\n",
    "    execution_time = test_merge_sort(size)\n",
    "    print(f\"Python - Input size: {size}, Execution time: {execution_time:.6f} seconds\")"
   ]
  }
 ],
 "metadata": {
  "kernelspec": {
   "display_name": "Python 3",
   "language": "python",
   "name": "python3"
  },
  "language_info": {
   "codemirror_mode": {
    "name": "ipython",
    "version": 3
   },
   "file_extension": ".py",
   "mimetype": "text/x-python",
   "name": "python",
   "nbconvert_exporter": "python",
   "pygments_lexer": "ipython3",
   "version": "3.11.7"
  }
 },
 "nbformat": 4,
 "nbformat_minor": 2
}
